{
 "cells": [
  {
   "cell_type": "code",
   "execution_count": 1,
   "metadata": {},
   "outputs": [],
   "source": [
    "%matplotlib inline\n",
    "import numpy as np\n",
    "import random\n",
    "import networkx as nx\n",
    "import matplotlib.pylab as plt"
   ]
  },
  {
   "cell_type": "markdown",
   "metadata": {},
   "source": [
    "# Random Walk prectice"
   ]
  },
  {
   "cell_type": "code",
   "execution_count": 21,
   "metadata": {},
   "outputs": [
    {
     "name": "stdout",
     "output_type": "stream",
     "text": [
      "[[0 1 0 0]\n",
      " [1 0 3 1]\n",
      " [0 3 0 2]\n",
      " [0 1 2 0]]\n"
     ]
    },
    {
     "data": {
      "image/png": "[encoded data removed]",
      "text/plain": [
       "<Figure size 432x288 with 1 Axes>"
      ]
     },
     "metadata": {},
     "output_type": "display_data"
    }
   ],
   "source": [
    "adj_mat=np.array([[0,1,0,0],\n",
    "                  [1,0,3,1],\n",
    "                  [0,3,0,2],\n",
    "                  [0,1,2,0]])\n",
    "\n",
    "print(adj_mat)\n",
    "\n",
    "G = nx.Graph(adj_mat)\n",
    "\n",
    "pos = nx.spring_layout(G)\n",
    "\n",
    "nx.draw_networkx_nodes(G, pos, node_color=\"w\")\n",
    "nx.draw_networkx_edges(G, pos, width=1)\n",
    "nx.draw_networkx_edge_labels(G, pos)\n",
    "nx.draw_networkx_labels(G, pos ,font_size=16, font_color=\"black\")\n",
    "\n",
    "plt.xticks([])\n",
    "plt.yticks([])\n",
    "plt.show()"
   ]
  },
  {
   "cell_type": "code",
   "execution_count": 28,
   "metadata": {},
   "outputs": [
    {
     "name": "stdout",
     "output_type": "stream",
     "text": [
      "[ 1.          3.31662479  3.60555128  2.23606798]\n",
      "[[ 1.        ]\n",
      " [ 3.31662479]\n",
      " [ 3.60555128]\n",
      " [ 2.23606798]]\n"
     ]
    },
    {
     "data": {
      "text/plain": [
       "array([[ 0.        ,  1.        ,  0.        ,  0.        ],\n",
       "       [ 0.30151134,  0.        ,  0.90453403,  0.30151134],\n",
       "       [ 0.        ,  0.83205029,  0.        ,  0.5547002 ],\n",
       "       [ 0.        ,  0.4472136 ,  0.89442719,  0.        ]])"
      ]
     },
     "execution_count": 28,
     "metadata": {},
     "output_type": "execute_result"
    }
   ],
   "source": [
    "#normalize matrix with L2 norm\n",
    "\n",
    "norms = np.apply_along_axis(np.linalg.norm, 0, adj_mat)\n",
    "print(norms)\n",
    "print( norms.reshape(-1,1))\n",
    "adj_mat_norm = adj_mat / norms.reshape(-1,1)\n",
    "adj_mat_norm"
   ]
  },
  {
   "cell_type": "code",
   "execution_count": 31,
   "metadata": {},
   "outputs": [
    {
     "name": "stdout",
     "output_type": "stream",
     "text": [
      "[ 1.  5.  5.  3.]\n"
     ]
    },
    {
     "data": {
      "text/plain": [
       "array([[ 0.        ,  1.        ,  0.        ,  0.        ],\n",
       "       [ 0.2       ,  0.        ,  0.6       ,  0.2       ],\n",
       "       [ 0.        ,  0.6       ,  0.        ,  0.4       ],\n",
       "       [ 0.        ,  0.33333333,  0.66666667,  0.        ]])"
      ]
     },
     "execution_count": 31,
     "metadata": {},
     "output_type": "execute_result"
    }
   ],
   "source": [
    "#normalize matrix with L1 norm\n",
    "#this is transition matrix of random walk\n",
    "\n",
    "sums = np.sum(adj_mat,axis=1).astype(np.float32)\n",
    "print(sums)\n",
    "adj_mat_trans = adj_mat / sums.reshape(-1,1)\n",
    "adj_mat_trans"
   ]
  },
  {
   "cell_type": "code",
   "execution_count": 6,
   "metadata": {},
   "outputs": [
    {
     "data": {
      "text/plain": [
       "[3, 1, 0, 1, 2, 1, 2, 3, 2, 3]"
      ]
     },
     "execution_count": 6,
     "metadata": {},
     "output_type": "execute_result"
    }
   ],
   "source": [
    "#generarte pure random walk\n",
    "\n",
    "random_walk=[np.random.choice([0,1,2,3])]\n",
    "random_walk_length=10\n",
    "for i in range(random_walk_length-1):\n",
    "    cur_node = random_walk[-1]\n",
    "    next_node=np.random.choice([0,1,2,3], 1, p=adj_mat_trans[int(cur_node)])\n",
    "    random_walk.append(next_node[0])\n",
    "\n",
    "random_walk"
   ]
  },
  {
   "cell_type": "code",
   "execution_count": 7,
   "metadata": {},
   "outputs": [
    {
     "data": {
      "text/plain": [
       "[0, 1, 2, 1, 0, 1, 2, 0, 1, 0]"
      ]
     },
     "execution_count": 7,
     "metadata": {},
     "output_type": "execute_result"
    }
   ],
   "source": [
    "#generate random walk with restart\n",
    "\n",
    "random_walk=[np.random.choice([0,1,2,3])]\n",
    "random_walk_length=10\n",
    "restart_prob=0.2\n",
    "start=random_walk[-1]\n",
    "for i in range(random_walk_length-1):\n",
    "    cur_node = random_walk[-1]\n",
    "    if np.random.choice([True,False], 1, p=[0.2,0.8])[0]:\n",
    "        next_node=start\n",
    "    else:\n",
    "        next_node=np.random.choice([0,1,2,3], 1, p=adj_mat_trans[int(cur_node)])\n",
    "    random_walk.append(int(next_node))\n",
    "    \n",
    "random_walk"
   ]
  },
  {
   "cell_type": "markdown",
   "metadata": {
    "collapsed": true
   },
   "source": [
    "# node2vec walk"
   ]
  },
  {
   "cell_type": "markdown",
   "metadata": {},
   "source": [
    "node2vec has a parameterlized strategy to generate random walk. (See section 3.2.2 in the node2vec paper)  \n",
    "\n",
    "Suppose the edge t -> v. i.e random walk jsut traversed from node t to node v  \n",
    "Unnormalized transition probabilities $ \\pi_{vx} = \\alpha_{pq}(t,x)w_{vx} $ where   \n",
    "$\n",
    "  \\alpha_{pq}(t,x) = \\left\\{ \\begin{array}{ll}\n",
    "    1/p & if \\  d_{t,x}=0 \\\\\n",
    "    1 & if \\  d_{t,x}=1 \\\\\n",
    "    1/q & if \\ d_{t,x}=2 \\\\\n",
    "  \\end{array} \\right.\n",
    "$\n",
    "  \n",
    "Note that transition probability for a random walker at a node v now depends on the previous node t in addition to v's connections\n",
    "    \n",
    "Now, let's think about exmaple as follows"
   ]
  },
  {
   "cell_type": "code",
   "execution_count": 8,
   "metadata": {},
   "outputs": [
    {
     "data": {
      "image/png": "[encoded data removed]",
      "text/plain": [
       "<Figure size 432x288 with 1 Axes>"
      ]
     },
     "metadata": {},
     "output_type": "display_data"
    }
   ],
   "source": [
    "adj_mat=np.array([[0,1,0,0,0],\n",
    "                  [1,0,1,1,1],\n",
    "                  [0,1,0,1,0],\n",
    "                  [0,1,1,0,0],\n",
    "                  [0,1,0,0,0]])\n",
    "\n",
    "G = nx.Graph(adj_mat)\n",
    "\n",
    "pos = nx.spring_layout(G)\n",
    "\n",
    "nx.draw_networkx_nodes(G, pos, node_color=\"w\")\n",
    "nx.draw_networkx_edges(G, pos, width=1)\n",
    "nx.draw_networkx_edge_labels(G, pos)\n",
    "nx.draw_networkx_labels(G, pos ,font_size=16, font_color=\"black\")\n",
    "\n",
    "plt.xticks([])\n",
    "plt.yticks([])\n",
    "plt.show()"
   ]
  },
  {
   "cell_type": "markdown",
   "metadata": {},
   "source": [
    "This examples corresponds the condition that v=1, t=2, x1=3, x2=0, x3=4\n",
    "\n",
    "let's think about the edge 2 -> 1. i.e random walk jsut traversed from node 2 to node 1.  \n",
    "Then, unnormalized transition probabilities $ \\pi_{1x} = \\alpha_{pq}(2,x)w_{1x} $ where   \n",
    "$\n",
    "  \\alpha_{pq}(2,x) = \\left\\{ \\begin{array}{ll}\n",
    "    1/p & if \\ x=2 \\ \\ (i.e \\ \\ d_{2,x}=0) \\\\\n",
    "    1 & if \\ x=3 \\ \\ (i.e \\ \\ d_{2,x}=1) \\\\\n",
    "    1/q & if \\ x=0 \\ or \\ 4 \\ \\ (i.e \\ \\ d_{2,x}=2) \\\\\n",
    "  \\end{array} \\right.\n",
    "$\n",
    "<br><br>\n",
    "This can be implemented as follows"
   ]
  },
  {
   "cell_type": "code",
   "execution_count": 10,
   "metadata": {},
   "outputs": [
    {
     "name": "stdout",
     "output_type": "stream",
     "text": [
      "0.5\n",
      "1.0\n",
      "2.0\n",
      "2.0\n"
     ]
    }
   ],
   "source": [
    "def alpha(p,q,t,x):\n",
    "    if t==x:\n",
    "        return 1.0/p\n",
    "    elif adj_mat[t,x]>0:\n",
    "        return 1.0\n",
    "    else:\n",
    "        return 1.0/q\n",
    "\n",
    "#Test\n",
    "   \n",
    "v=1\n",
    "t=2\n",
    "p=2\n",
    "q=0.5    \n",
    "\n",
    "print(alpha(p,q,t,2))\n",
    "print(alpha(p,q,t,3))\n",
    "print(alpha(p,q,t,0))\n",
    "print(alpha(p,q,t,4))"
   ]
  },
  {
   "cell_type": "code",
   "execution_count": 11,
   "metadata": {},
   "outputs": [],
   "source": [
    "#Let's make pi for each edge using the function alpha\n",
    "#The pi is stored in the follwing python dictionary whose index is edge\n",
    "transition={}\n",
    "#e.g. transition = {(1,2):[0.1,0,0.5,0,0.4], (1,3):[0.1,0,0.7,0,0.2], ...}\n",
    "# if we want to get a transition prob from a random walker at 1 from 2, the prob is transition[1,2]\n",
    "\n",
    "p=2\n",
    "q=0.5\n",
    "\n",
    "for t in range(adj_mat.shape[0]):\n",
    "    for v in range(adj_mat.shape[1]):\n",
    "        #if edge t to v exists\n",
    "        if adj_mat[t,v]>0:\n",
    "            num_nodes=adj_mat.shape[0]\n",
    "            pi=np.zeros(num_nodes)\n",
    "            for x in range(num_nodes):\n",
    "                #if edge v to x exists. i.e  possible next ndoes from v\n",
    "                if adj_mat[v,x]>0:\n",
    "                    pi[x]=alpha(p,q,t,x)*adj_mat[v,x]\n",
    "                    #pi[x] is nunormlized transion probability from v to x where v is traversed from t\n",
    "            pi=pi/np.sum(pi)\n",
    "            #now, pi is normalzied transion probabilities for v traversed from t\n",
    "            transition[t,v]=pi"
   ]
  },
  {
   "cell_type": "code",
   "execution_count": 13,
   "metadata": {},
   "outputs": [
    {
     "data": {
      "text/plain": [
       "[0, 1, 2, 3, 1, 3, 1, 0, 1, 4]"
      ]
     },
     "execution_count": 13,
     "metadata": {},
     "output_type": "execute_result"
    }
   ],
   "source": [
    "#Now we have pre-computed random walk transition probabilities (i.e python dict transition)\n",
    "#So let's use this to generate random walk for a given node\n",
    "\n",
    "#get random walk \n",
    "all_nodes=[0,1,2,3,4]\n",
    "random_edge_index=np.random.choice(len(transition))\n",
    "random_edge=list(transition.keys())[random_edge_index]\n",
    "random_walk=[random_edge[0],random_edge[1]]\n",
    "random_walk_length=10\n",
    "for i in range(random_walk_length-2):\n",
    "    cur_node = random_walk[-1]\n",
    "    precious_node=random_walk[-2]\n",
    "    next_node=np.random.choice(all_nodes, 1, p=transition[precious_node,cur_node])\n",
    "    random_walk.append(next_node[0])\n",
    "    \n",
    "random_walk"
   ]
  },
  {
   "cell_type": "code",
   "execution_count": 14,
   "metadata": {},
   "outputs": [],
   "source": [
    "#let's use sparse vector to store transition probabilities\n",
    "\n",
    "transition_sparse={}\n",
    "\n",
    "#Let's make pi for each edge using the function alpha\n",
    "#The pi is stored in the follwing python dictionary whose index is edge\n",
    "\n",
    "p=2\n",
    "q=0.5\n",
    "\n",
    "for t in range(adj_mat.shape[0]):\n",
    "    for v in range(adj_mat.shape[1]):\n",
    "        #if edge t to v exists\n",
    "        if adj_mat[t,v]>0:\n",
    "            pi_vx_indices=[]\n",
    "            pi_vx_values =[]\n",
    "            for x in range(num_nodes):\n",
    "                #if edge v to x exists. i.e  possible next ndoes from v\n",
    "                if adj_mat[v,x]>0:\n",
    "                    pi_vx_indices.append(x)\n",
    "                    pi_vx_values.append(alpha(p,q,t,x)*adj_mat[v,x])\n",
    "                    #pi[x] is nunormlized transion probability from v to x where v is traversed from t\n",
    "            pi_vx_values=np.array(pi_vx_values)/sum(pi_vx_values)\n",
    "            #now, pi is normalzied transion probabilities for v traversed from t\n",
    "            transition_sparse[t,v]=(pi_vx_indices,pi_vx_values)"
   ]
  },
  {
   "cell_type": "code",
   "execution_count": 16,
   "metadata": {},
   "outputs": [
    {
     "name": "stdout",
     "output_type": "stream",
     "text": [
      "[ 0.07692308  0.          0.30769231  0.30769231  0.30769231]\n",
      "([0, 2, 3, 4], array([ 0.07692308,  0.30769231,  0.30769231,  0.30769231]))\n"
     ]
    }
   ],
   "source": [
    "# see they are the same\n",
    "print(transition[0,1])\n",
    "print(transition_sparse[0,1])"
   ]
  },
  {
   "cell_type": "code",
   "execution_count": 18,
   "metadata": {},
   "outputs": [
    {
     "data": {
      "text/plain": [
       "[0, 1, 3, 2, 3, 2, 1, 0, 1, 2]"
      ]
     },
     "execution_count": 18,
     "metadata": {},
     "output_type": "execute_result"
    }
   ],
   "source": [
    "#get random walk \n",
    "all_nodes=[0,1,2,3,4]\n",
    "random_edge_index=np.random.choice(len(transition))\n",
    "random_edge=list(transition.keys())[random_edge_index]\n",
    "random_walk=[random_edge[0],random_edge[1]]\n",
    "random_walk_length=10\n",
    "for i in range(random_walk_length-2):\n",
    "    cur_node = random_walk[-1]\n",
    "    precious_node=random_walk[-2]\n",
    "    (pi_vx_indices,pi_vx_values)=transition_sparse[precious_node,cur_node]\n",
    "    next_node=np.random.choice(pi_vx_indices, 1, p=pi_vx_values)\n",
    "    random_walk.append(next_node[0])\n",
    "    \n",
    "random_walk"
   ]
  },
  {
   "cell_type": "code",
   "execution_count": 371,
   "metadata": {
    "collapsed": true
   },
   "outputs": [],
   "source": [
    "#next steps\n",
    "#implement a case that the adjacent matrix is sparse matrix\n",
    "#implement a muti prosessing code to generate random walks"
   ]
  }
 ],
 "metadata": {
  "kernelspec": {
   "display_name": "Python 3",
   "language": "python",
   "name": "python3"
  },
  "language_info": {
   "codemirror_mode": {
    "name": "ipython",
    "version": 3
   },
   "file_extension": ".py",
   "mimetype": "text/x-python",
   "name": "python",
   "nbconvert_exporter": "python",
   "pygments_lexer": "ipython3",
   "version": "3.5.4"
  }
 },
 "nbformat": 4,
 "nbformat_minor": 1
}
